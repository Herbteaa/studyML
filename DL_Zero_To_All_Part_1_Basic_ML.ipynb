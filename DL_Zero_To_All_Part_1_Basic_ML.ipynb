{
 "cells": [
  {
   "cell_type": "markdown",
   "metadata": {},
   "source": [
    "# 기본적인 Machine Learning 의 용어와 개념 설명"
   ]
  },
  {
   "cell_type": "markdown",
   "metadata": {},
   "source": [
    "## What is ML?\n",
    "* **Limitations of explicit programming**\n",
    "  - Spam filter: many rules\n",
    "  - Automatic driving: too many rules    \n",
    "  \n",
    " \n",
    "* **Machine learning**: \"Field of study that gives computers the ability to learn without being explicitly programmed” Arthur Samuel (1959)"
   ]
  },
  {
   "cell_type": "markdown",
   "metadata": {},
   "source": [
    "## What is learning?\n",
    "* **supervised learning**\n",
    " - learning with labeled examples - training set\n",
    " - 레이블이 정해져 있는 데이터를 이용해 학습하는 방법\n",
    "  \n",
    "  \n",
    "* **unsupervised learning : un-labeled data**\n",
    " - Google news grouping\n",
    " - Word clustering (비슷한 단어를 모으기)\n",
    " \n",
    "**주로 suvervised learning을 다룰 예정**  \n",
    "\n",
    "\n",
    "* **Most common problem type in ML**\n",
    "  - Image labeling: learning from tagged images\n",
    "  - Email spam filter: learning from labeled (spam or ham)\n",
    "email\n",
    "  - Predicting exam score: learning from previous exam\n",
    "score and time spent"
   ]
  },
  {
   "cell_type": "markdown",
   "metadata": {},
   "source": [
    "### Types of supervised learning\n",
    "* **Predicting final exam score based on time spent**  \n",
    "  - regression\n",
    "* **Pass/non-pass based on time spent**  \n",
    "  - binary classification\n",
    "* **Letter grade (A, B, C, E and F) based on time spent**  \n",
    "  - multi-label classification"
   ]
  },
  {
   "cell_type": "markdown",
   "metadata": {},
   "source": [
    "## What is regression?"
   ]
  },
  {
   "cell_type": "markdown",
   "metadata": {},
   "source": [
    "## What is classification?"
   ]
  },
  {
   "cell_type": "markdown",
   "metadata": {},
   "source": [
    "# Simple Linear Regression\n",
    "* **Regression**\n",
    "* **Linear Regression**\n",
    "* **Hypothesis**\n",
    "* **Which hypothesis is better?**\n",
    "* **Cost, Cost function**\n",
    "* **Goal: Minimize cost**"
   ]
  },
  {
   "cell_type": "code",
   "execution_count": null,
   "metadata": {},
   "outputs": [],
   "source": []
  }
 ],
 "metadata": {
  "kernelspec": {
   "display_name": "Python 3",
   "language": "python",
   "name": "python3"
  },
  "language_info": {
   "codemirror_mode": {
    "name": "ipython",
    "version": 3
   },
   "file_extension": ".py",
   "mimetype": "text/x-python",
   "name": "python",
   "nbconvert_exporter": "python",
   "pygments_lexer": "ipython3",
   "version": "3.8.3"
  },
  "toc": {
   "base_numbering": 1,
   "nav_menu": {},
   "number_sections": true,
   "sideBar": true,
   "skip_h1_title": false,
   "title_cell": "Table of Contents",
   "title_sidebar": "Contents",
   "toc_cell": false,
   "toc_position": {},
   "toc_section_display": true,
   "toc_window_display": false
  },
  "varInspector": {
   "cols": {
    "lenName": 16,
    "lenType": 16,
    "lenVar": 40
   },
   "kernels_config": {
    "python": {
     "delete_cmd_postfix": "",
     "delete_cmd_prefix": "del ",
     "library": "var_list.py",
     "varRefreshCmd": "print(var_dic_list())"
    },
    "r": {
     "delete_cmd_postfix": ") ",
     "delete_cmd_prefix": "rm(",
     "library": "var_list.r",
     "varRefreshCmd": "cat(var_dic_list()) "
    }
   },
   "types_to_exclude": [
    "module",
    "function",
    "builtin_function_or_method",
    "instance",
    "_Feature"
   ],
   "window_display": false
  }
 },
 "nbformat": 4,
 "nbformat_minor": 4
}

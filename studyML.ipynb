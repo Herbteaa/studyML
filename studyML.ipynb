{
  "nbformat": 4,
  "nbformat_minor": 0,
  "metadata": {
    "colab": {
      "name": "studyML.ipynb",
      "provenance": [],
      "authorship_tag": "ABX9TyPzdvHF13yEAMBKuHNaexzz",
      "include_colab_link": true
    },
    "kernelspec": {
      "name": "python3",
      "display_name": "Python 3"
    }
  },
  "cells": [
    {
      "cell_type": "markdown",
      "metadata": {
        "id": "view-in-github",
        "colab_type": "text"
      },
      "source": [
        "<a href=\"https://colab.research.google.com/github/Herbteaa/hello-world/blob/master/studyML.ipynb\" target=\"_parent\"><img src=\"https://colab.research.google.com/assets/colab-badge.svg\" alt=\"Open In Colab\"/></a>"
      ]
    },
    {
      "cell_type": "code",
      "metadata": {
        "id": "InbEZ5hWAMUn"
      },
      "source": [
        ""
      ],
      "execution_count": 1,
      "outputs": []
    },
    {
      "cell_type": "markdown",
      "metadata": {
        "id": "V3YsY7HrAtBX"
      },
      "source": [
        "# 머신러닝 이론 및 파이썬 실습"
      ]
    },
    {
      "cell_type": "markdown",
      "metadata": {
        "id": "r2H_JzZCA53y"
      },
      "source": [
        "인프런 강의자료 요약\n",
        "https://www.inflearn.com/course/%EB%A8%B8%EC%8B%A0%EB%9F%AC%EB%8B%9D%EC%9D%B4%EB%A1%A0-%ED%8C%8C%EC%9D%B4%EC%8D%AC%EC%8B%A4%EC%8A%B5/dashboard"
      ]
    },
    {
      "cell_type": "markdown",
      "metadata": {
        "id": "dft2smhbBCyY"
      },
      "source": [
        "## 섹션 0. 환경설정"
      ]
    },
    {
      "cell_type": "markdown",
      "metadata": {
        "id": "rwttpO8mBC5G"
      },
      "source": [
        "아나콘다 설치  \n",
        "텐서플로우 설치 : pip install tensorflow"
      ]
    },
    {
      "cell_type": "code",
      "metadata": {
        "id": "bvsgyRngBRMJ"
      },
      "source": [
        ""
      ],
      "execution_count": null,
      "outputs": []
    }
  ]
}
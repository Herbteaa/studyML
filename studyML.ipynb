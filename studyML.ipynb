{
  "nbformat": 4,
  "nbformat_minor": 0,
  "metadata": {
    "colab": {
      "name": "studyML.ipynb",
      "provenance": [],
      "authorship_tag": "ABX9TyPj2Qr5Q4S8MJoRHbvUQfht",
      "include_colab_link": true
    },
    "kernelspec": {
      "name": "python3",
      "display_name": "Python 3"
    }
  },
  "cells": [
    {
      "cell_type": "markdown",
      "metadata": {
        "id": "view-in-github",
        "colab_type": "text"
      },
      "source": [
        "<a href=\"https://colab.research.google.com/github/Herbteaa/studyML/blob/master/studyML.ipynb\" target=\"_parent\"><img src=\"https://colab.research.google.com/assets/colab-badge.svg\" alt=\"Open In Colab\"/></a>"
      ]
    },
    {
      "cell_type": "markdown",
      "metadata": {
        "id": "V3YsY7HrAtBX"
      },
      "source": [
        "# 머신러닝 이론 및 파이썬 실습"
      ]
    },
    {
      "cell_type": "markdown",
      "metadata": {
        "id": "r2H_JzZCA53y"
      },
      "source": [
        "인프런 강의자료 요약  \n",
        "https://www.inflearn.com/course/%EB%A8%B8%EC%8B%A0%EB%9F%AC%EB%8B%9D%EC%9D%B4%EB%A1%A0-%ED%8C%8C%EC%9D%B4%EC%8D%AC%EC%8B%A4%EC%8A%B5/dashboard"
      ]
    },
    {
      "cell_type": "markdown",
      "metadata": {
        "id": "dft2smhbBCyY"
      },
      "source": [
        "## 섹션 0. 환경설정"
      ]
    },
    {
      "cell_type": "markdown",
      "metadata": {
        "id": "rwttpO8mBC5G"
      },
      "source": [
        "아나콘다 설치  \n",
        "텐서플로우 설치 : pip install tensorflow"
      ]
    },
    {
      "cell_type": "markdown",
      "metadata": {
        "id": "h3tptOPSCnB2"
      },
      "source": [
        "## 섹션 1. kNN(k-Nearest Neighbors)"
      ]
    },
    {
      "cell_type": "markdown",
      "metadata": {
        "id": "_1lEn5dKCtTk"
      },
      "source": [
        "## 섹션 2. 의사결정트리(Decision Tree)"
      ]
    },
    {
      "cell_type": "markdown",
      "metadata": {
        "id": "dirnNAdWCtXY"
      },
      "source": [
        "## 섹션 3. 나이브 베이즈(Naive Bayes) 분류"
      ]
    },
    {
      "cell_type": "markdown",
      "metadata": {
        "id": "yQgAkq7ICtZy"
      },
      "source": [
        "## 섹션 4. Linear regression(선형회귀)"
      ]
    },
    {
      "cell_type": "markdown",
      "metadata": {
        "id": "ExwILDoLCtcO"
      },
      "source": [
        "## 섹션 5. kmean 클러스터링"
      ]
    },
    {
      "cell_type": "markdown",
      "metadata": {
        "id": "dW6V9BYdCted"
      },
      "source": [
        "##섹션 6. 캐글 (Kaggle) - 데이터과학 실전예제 다루기"
      ]
    },
    {
      "cell_type": "markdown",
      "metadata": {
        "id": "vQA-9OzECtgq"
      },
      "source": [
        "## 섹션 7. 오버피팅(overfitting)& 언더피팅(underfitting)"
      ]
    },
    {
      "cell_type": "markdown",
      "metadata": {
        "id": "B7FcYmSiCtjA"
      },
      "source": [
        "## 섹션 8. Norm(L1, L2)"
      ]
    },
    {
      "cell_type": "markdown",
      "metadata": {
        "id": "C_PCEodcC4Av"
      },
      "source": [
        "## 섹션 9. PCA 주성분분석"
      ]
    },
    {
      "cell_type": "markdown",
      "metadata": {
        "id": "PJTqE3W6C4Cy"
      },
      "source": [
        "## 섹션 10. Confusion Matrix(혼동행렬)"
      ]
    },
    {
      "cell_type": "markdown",
      "metadata": {
        "id": "3rGwPUGOC4FB"
      },
      "source": [
        "## 섹션 11. 다중 분류 모델 성능 측정"
      ]
    }
  ]
}
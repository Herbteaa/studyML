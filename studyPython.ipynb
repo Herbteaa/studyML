{
 "cells": [
  {
   "cell_type": "markdown",
   "metadata": {},
   "source": [
    "# On demand로 데이터를 얻을 때는 파이썬 제너레이터(generator)를 사용하라\n",
    "이 방법은 메모리를 절약할뿐만 아니라 성능을 향상시킬 수 있습니다. 비디오를 스트리밍하는 경우, 전체 스트림이 아닌 몇 바이트씩 보낼 수 있습니다.\n",
    "\n",
    "출처: https://deepwelloper.tistory.com/113?category=813724 [DEVLOG]"
   ]
  },
  {
   "cell_type": "code",
   "execution_count": 5,
   "metadata": {
    "ExecuteTime": {
     "end_time": "2020-12-12T06:45:12.523244Z",
     "start_time": "2020-12-12T06:45:12.468264Z"
    }
   },
   "outputs": [
    {
     "name": "stdout",
     "output_type": "stream",
     "text": [
      "1000\n",
      "3000\n",
      "5000\n",
      "7000\n",
      "9000\n",
      "11000\n",
      "13000\n",
      "15000\n",
      "17000\n",
      "19000\n",
      "21000\n",
      "23000\n",
      "25000\n",
      "27000\n",
      "29000\n",
      "31000\n",
      "33000\n",
      "35000\n",
      "37000\n",
      "39000\n",
      "41000\n",
      "43000\n",
      "45000\n",
      "47000\n",
      "49000\n",
      "51000\n",
      "53000\n",
      "55000\n",
      "57000\n",
      "59000\n",
      "61000\n",
      "63000\n",
      "65000\n",
      "67000\n",
      "69000\n",
      "71000\n",
      "73000\n",
      "75000\n",
      "77000\n",
      "79000\n",
      "81000\n",
      "83000\n",
      "85000\n",
      "87000\n",
      "89000\n",
      "91000\n",
      "93000\n",
      "95000\n",
      "97000\n",
      "99000\n",
      "101000\n",
      "103000\n",
      "105000\n",
      "107000\n",
      "109000\n",
      "111000\n",
      "113000\n",
      "115000\n",
      "117000\n",
      "119000\n",
      "121000\n",
      "123000\n",
      "125000\n",
      "127000\n",
      "129000\n",
      "131000\n",
      "133000\n",
      "135000\n",
      "137000\n",
      "139000\n",
      "141000\n",
      "143000\n",
      "145000\n",
      "147000\n",
      "149000\n",
      "151000\n",
      "153000\n",
      "155000\n",
      "157000\n",
      "159000\n",
      "161000\n",
      "163000\n",
      "165000\n",
      "167000\n",
      "169000\n",
      "171000\n",
      "173000\n",
      "175000\n",
      "177000\n",
      "179000\n",
      "181000\n",
      "183000\n",
      "185000\n",
      "187000\n",
      "189000\n",
      "191000\n",
      "193000\n",
      "195000\n",
      "197000\n",
      "199000\n",
      "201000\n",
      "203000\n",
      "205000\n",
      "207000\n",
      "209000\n",
      "211000\n",
      "213000\n",
      "215000\n",
      "217000\n",
      "219000\n",
      "221000\n",
      "223000\n",
      "225000\n",
      "227000\n",
      "229000\n",
      "231000\n",
      "233000\n",
      "235000\n",
      "237000\n",
      "239000\n",
      "241000\n",
      "243000\n",
      "245000\n",
      "247000\n",
      "249000\n",
      "251000\n",
      "253000\n",
      "255000\n",
      "257000\n",
      "259000\n",
      "261000\n",
      "263000\n",
      "265000\n",
      "267000\n",
      "269000\n",
      "271000\n",
      "273000\n",
      "275000\n",
      "277000\n",
      "279000\n",
      "281000\n",
      "283000\n",
      "285000\n",
      "287000\n",
      "289000\n",
      "291000\n",
      "293000\n",
      "295000\n",
      "297000\n",
      "299000\n",
      "301000\n",
      "303000\n",
      "305000\n",
      "307000\n",
      "309000\n",
      "311000\n",
      "313000\n",
      "315000\n",
      "317000\n",
      "319000\n",
      "321000\n",
      "323000\n",
      "325000\n",
      "327000\n",
      "329000\n",
      "331000\n",
      "333000\n",
      "335000\n",
      "337000\n",
      "339000\n",
      "341000\n",
      "343000\n",
      "345000\n",
      "347000\n",
      "349000\n",
      "351000\n",
      "353000\n",
      "355000\n",
      "357000\n",
      "359000\n",
      "361000\n",
      "363000\n",
      "365000\n",
      "367000\n",
      "369000\n",
      "371000\n",
      "373000\n",
      "375000\n",
      "377000\n",
      "379000\n",
      "381000\n",
      "383000\n",
      "385000\n",
      "387000\n",
      "389000\n",
      "391000\n",
      "393000\n",
      "395000\n",
      "397000\n",
      "399000\n",
      "401000\n",
      "403000\n",
      "405000\n",
      "407000\n",
      "409000\n",
      "411000\n",
      "413000\n",
      "415000\n",
      "417000\n",
      "419000\n",
      "421000\n",
      "423000\n",
      "425000\n",
      "427000\n",
      "429000\n",
      "431000\n",
      "433000\n",
      "435000\n",
      "437000\n",
      "439000\n",
      "441000\n",
      "443000\n",
      "445000\n",
      "447000\n",
      "449000\n",
      "451000\n",
      "453000\n",
      "455000\n",
      "457000\n",
      "459000\n",
      "461000\n",
      "463000\n",
      "465000\n",
      "467000\n",
      "469000\n",
      "471000\n",
      "473000\n",
      "475000\n",
      "477000\n",
      "479000\n",
      "481000\n",
      "483000\n",
      "485000\n",
      "487000\n",
      "489000\n",
      "491000\n",
      "493000\n",
      "495000\n",
      "497000\n",
      "499000\n",
      "501000\n",
      "503000\n",
      "505000\n",
      "507000\n",
      "509000\n",
      "511000\n",
      "513000\n",
      "515000\n",
      "517000\n",
      "519000\n",
      "521000\n",
      "523000\n",
      "525000\n",
      "527000\n",
      "529000\n",
      "531000\n",
      "533000\n",
      "535000\n",
      "537000\n",
      "539000\n",
      "541000\n",
      "543000\n",
      "545000\n",
      "547000\n",
      "549000\n",
      "551000\n",
      "553000\n",
      "555000\n",
      "557000\n",
      "559000\n",
      "561000\n",
      "563000\n",
      "565000\n",
      "567000\n",
      "569000\n",
      "571000\n",
      "573000\n",
      "575000\n",
      "577000\n",
      "579000\n",
      "581000\n",
      "583000\n",
      "585000\n",
      "587000\n",
      "589000\n",
      "591000\n",
      "593000\n",
      "595000\n",
      "597000\n",
      "599000\n",
      "601000\n",
      "603000\n",
      "605000\n",
      "607000\n",
      "609000\n",
      "611000\n",
      "613000\n",
      "615000\n",
      "617000\n",
      "619000\n",
      "621000\n",
      "623000\n",
      "625000\n",
      "627000\n",
      "629000\n",
      "631000\n",
      "633000\n",
      "635000\n",
      "637000\n",
      "639000\n",
      "641000\n",
      "643000\n",
      "645000\n",
      "647000\n",
      "649000\n",
      "651000\n",
      "653000\n",
      "655000\n",
      "657000\n",
      "659000\n",
      "661000\n",
      "663000\n",
      "665000\n",
      "667000\n",
      "669000\n",
      "671000\n",
      "673000\n",
      "675000\n",
      "677000\n",
      "679000\n",
      "681000\n",
      "683000\n",
      "685000\n",
      "687000\n",
      "689000\n",
      "691000\n",
      "693000\n",
      "695000\n",
      "697000\n",
      "699000\n",
      "701000\n",
      "703000\n",
      "705000\n",
      "707000\n",
      "709000\n",
      "711000\n",
      "713000\n",
      "715000\n",
      "717000\n",
      "719000\n",
      "721000\n",
      "723000\n",
      "725000\n",
      "727000\n",
      "729000\n",
      "731000\n",
      "733000\n",
      "735000\n",
      "737000\n",
      "739000\n",
      "741000\n",
      "743000\n",
      "745000\n",
      "747000\n",
      "749000\n",
      "751000\n",
      "753000\n",
      "755000\n",
      "757000\n",
      "759000\n",
      "761000\n",
      "763000\n",
      "765000\n",
      "767000\n",
      "769000\n",
      "771000\n",
      "773000\n",
      "775000\n",
      "777000\n",
      "779000\n",
      "781000\n",
      "783000\n",
      "785000\n",
      "787000\n",
      "789000\n",
      "791000\n",
      "793000\n",
      "795000\n",
      "797000\n",
      "799000\n",
      "801000\n",
      "803000\n",
      "805000\n",
      "807000\n",
      "809000\n",
      "811000\n",
      "813000\n",
      "815000\n",
      "817000\n",
      "819000\n",
      "821000\n",
      "823000\n",
      "825000\n",
      "827000\n",
      "829000\n",
      "831000\n",
      "833000\n",
      "835000\n",
      "837000\n",
      "839000\n",
      "841000\n",
      "843000\n",
      "845000\n",
      "847000\n",
      "849000\n",
      "851000\n",
      "853000\n",
      "855000\n",
      "857000\n",
      "859000\n",
      "861000\n",
      "863000\n",
      "865000\n",
      "867000\n",
      "869000\n",
      "871000\n",
      "873000\n",
      "875000\n",
      "877000\n",
      "879000\n",
      "881000\n",
      "883000\n",
      "885000\n",
      "887000\n",
      "889000\n",
      "891000\n",
      "893000\n",
      "895000\n",
      "897000\n",
      "899000\n",
      "901000\n",
      "903000\n",
      "905000\n",
      "907000\n",
      "909000\n",
      "911000\n",
      "913000\n",
      "915000\n",
      "917000\n",
      "919000\n",
      "921000\n",
      "923000\n",
      "925000\n",
      "927000\n",
      "929000\n",
      "931000\n",
      "933000\n",
      "935000\n",
      "937000\n",
      "939000\n",
      "941000\n",
      "943000\n",
      "945000\n",
      "947000\n",
      "949000\n",
      "951000\n",
      "953000\n",
      "955000\n",
      "957000\n",
      "959000\n",
      "961000\n",
      "963000\n",
      "965000\n",
      "967000\n",
      "969000\n",
      "971000\n",
      "973000\n",
      "975000\n",
      "977000\n",
      "979000\n",
      "981000\n",
      "983000\n",
      "985000\n",
      "987000\n",
      "989000\n",
      "991000\n",
      "993000\n",
      "995000\n",
      "997000\n",
      "999000\n"
     ]
    }
   ],
   "source": [
    "chunk = (1000 * i for i in range(1000))\n",
    "type(chunk)\n",
    "for i in chunk:\n",
    "    print(next(chunk))"
   ]
  },
  {
   "cell_type": "markdown",
   "metadata": {},
   "source": [
    "# itertools 모듈을 배워라\n",
    "itertools 모듈은 iteration과 combination에 굉장히 효율적입니다.  \n",
    "리스트 [1, 2, 3]의 모든 순열을 단 3줄로 생성할 수 있습니다.\n",
    "\n",
    "출처: https://deepwelloper.tistory.com/113?category=813724 [DEVLOG]"
   ]
  },
  {
   "cell_type": "code",
   "execution_count": 6,
   "metadata": {
    "ExecuteTime": {
     "end_time": "2020-12-12T06:45:12.538230Z",
     "start_time": "2020-12-12T06:45:12.525230Z"
    }
   },
   "outputs": [
    {
     "data": {
      "text/plain": [
       "[(1, 2, 3), (1, 3, 2), (2, 1, 3), (2, 3, 1), (3, 1, 2), (3, 2, 1)]"
      ]
     },
     "execution_count": 6,
     "metadata": {},
     "output_type": "execute_result"
    }
   ],
   "source": [
    "import itertools\n",
    "iter = itertools.permutations([1, 2, 3])\n",
    "list(iter)\n",
    "# [(1, 2, 3), (1, 3, 2), (2, 1, 3), (2, 3, 1), (3, 1, 2), (3, 2, 1)]"
   ]
  },
  {
   "cell_type": "markdown",
   "metadata": {},
   "source": [
    "# 정렬된 순서로 리스틀 유지하기 위해 bisect 모듈을 배워라\n",
    "bisect 모듈은 정렬된 리스트에 원소를 삽입 후, 다시 정렬할 필요 없도록 관리해줍니다.  \n",
    "리스트가 매우 길 경우에 더 효율적입니다.\n",
    "\n",
    "출처: https://deepwelloper.tistory.com/113?category=813724 [DEVLOG]"
   ]
  },
  {
   "cell_type": "code",
   "execution_count": 7,
   "metadata": {
    "ExecuteTime": {
     "end_time": "2020-12-12T06:45:12.553229Z",
     "start_time": "2020-12-12T06:45:12.539230Z"
    },
    "collapsed": true
   },
   "outputs": [
    {
     "ename": "NameError",
     "evalue": "name 'element' is not defined",
     "output_type": "error",
     "traceback": [
      "\u001b[1;31m---------------------------------------------------------------------------\u001b[0m",
      "\u001b[1;31mNameError\u001b[0m                                 Traceback (most recent call last)",
      "\u001b[1;32m<ipython-input-7-3926d885bf1f>\u001b[0m in \u001b[0;36m<module>\u001b[1;34m\u001b[0m\n\u001b[0;32m      1\u001b[0m \u001b[1;32mimport\u001b[0m \u001b[0mbisect\u001b[0m\u001b[1;33m\u001b[0m\u001b[1;33m\u001b[0m\u001b[0m\n\u001b[1;32m----> 2\u001b[1;33m \u001b[0mbisect\u001b[0m\u001b[1;33m.\u001b[0m\u001b[0minsort\u001b[0m\u001b[1;33m(\u001b[0m\u001b[0mlist\u001b[0m\u001b[1;33m,\u001b[0m \u001b[0melement\u001b[0m\u001b[1;33m)\u001b[0m\u001b[1;33m\u001b[0m\u001b[1;33m\u001b[0m\u001b[0m\n\u001b[0m",
      "\u001b[1;31mNameError\u001b[0m: name 'element' is not defined"
     ]
    }
   ],
   "source": [
    "import bisect\n",
    "bisect.insort(list, element)"
   ]
  },
  {
   "cell_type": "markdown",
   "metadata": {},
   "source": [
    "# 스택과 큐의 기능을 한번에 deque\n",
    "\n",
    "deque는 스택과 큐의 기능을 모두 가진 객체로 출입구를 양쪽에 가지고 있다."
   ]
  },
  {
   "cell_type": "code",
   "execution_count": 8,
   "metadata": {
    "ExecuteTime": {
     "end_time": "2020-12-12T06:45:35.406071Z",
     "start_time": "2020-12-12T06:45:35.394069Z"
    }
   },
   "outputs": [
    {
     "data": {
      "text/plain": [
       "deque(['l', 'o', 'v', 'e'])"
      ]
     },
     "execution_count": 8,
     "metadata": {},
     "output_type": "execute_result"
    }
   ],
   "source": [
    "from collections import deque\n",
    "dq = deque(\"love\")\n",
    "dq"
   ]
  },
  {
   "cell_type": "markdown",
   "metadata": {},
   "source": [
    "## 스택 구현 : append(), pop()\n",
    "스택은 마지막(오른쪽 끝)에서 입출력한다.\n",
    "입력시에는 append() 메서드를 이용하고, 출력시에는 pop()을 이용한다."
   ]
  },
  {
   "cell_type": "code",
   "execution_count": 9,
   "metadata": {
    "ExecuteTime": {
     "end_time": "2020-12-12T06:45:36.363291Z",
     "start_time": "2020-12-12T06:45:36.359312Z"
    }
   },
   "outputs": [
    {
     "data": {
      "text/plain": [
       "deque(['l', 'o', 'v', 'e', 'm'])"
      ]
     },
     "execution_count": 9,
     "metadata": {},
     "output_type": "execute_result"
    }
   ],
   "source": [
    "dq.append('m') #오른쪽 끝에 항목 추가\n",
    "dq"
   ]
  },
  {
   "cell_type": "code",
   "execution_count": 10,
   "metadata": {
    "ExecuteTime": {
     "end_time": "2020-12-12T06:45:36.590039Z",
     "start_time": "2020-12-12T06:45:36.572040Z"
    }
   },
   "outputs": [
    {
     "data": {
      "text/plain": [
       "'m'"
      ]
     },
     "execution_count": 10,
     "metadata": {},
     "output_type": "execute_result"
    }
   ],
   "source": [
    "dq.pop() #오른쪽 끝에 항목 가져오면서 삭제"
   ]
  },
  {
   "cell_type": "code",
   "execution_count": 11,
   "metadata": {
    "ExecuteTime": {
     "end_time": "2020-12-12T06:45:36.786617Z",
     "start_time": "2020-12-12T06:45:36.774609Z"
    }
   },
   "outputs": [
    {
     "data": {
      "text/plain": [
       "deque(['l', 'o', 'v', 'e'])"
      ]
     },
     "execution_count": 11,
     "metadata": {},
     "output_type": "execute_result"
    }
   ],
   "source": [
    "dq"
   ]
  },
  {
   "cell_type": "markdown",
   "metadata": {},
   "source": [
    "## 큐 구현 : appendleft(), pop(), append(), popleft()\n",
    "큐는 왼쪽(처음)에서 입력되고, 오른쪽(마지막)에서 출력된다.  \n",
    "오른쪽 출력 시에는 pop()을 사용하면 된다.  \n",
    "왼쪽에 값을 입력할 때는 appendlef() 메서드를 사용한다.  \n",
    "반대로 오른쪽에 값을 넣고 싶으면 append(), 왼쪽에서 값을 빼고 싶으면 popleft()를 사용한다."
   ]
  },
  {
   "cell_type": "code",
   "execution_count": 12,
   "metadata": {
    "ExecuteTime": {
     "end_time": "2020-12-12T06:45:37.531043Z",
     "start_time": "2020-12-12T06:45:37.524036Z"
    }
   },
   "outputs": [
    {
     "data": {
      "text/plain": [
       "deque(['l', 'l', 'o', 'v', 'e'])"
      ]
     },
     "execution_count": 12,
     "metadata": {},
     "output_type": "execute_result"
    }
   ],
   "source": [
    "dq.appendleft(\"l\") #왼쪽에서 'l' 입력\n",
    "dq"
   ]
  },
  {
   "cell_type": "code",
   "execution_count": 13,
   "metadata": {
    "ExecuteTime": {
     "end_time": "2020-12-12T06:45:37.714334Z",
     "start_time": "2020-12-12T06:45:37.696336Z"
    }
   },
   "outputs": [
    {
     "data": {
      "text/plain": [
       "'l'"
      ]
     },
     "execution_count": 13,
     "metadata": {},
     "output_type": "execute_result"
    }
   ],
   "source": [
    "dq.popleft() #왼쪽 끝에서 항목 가져오면서 삭제"
   ]
  },
  {
   "cell_type": "code",
   "execution_count": 14,
   "metadata": {
    "ExecuteTime": {
     "end_time": "2020-12-12T06:45:37.880744Z",
     "start_time": "2020-12-12T06:45:37.873746Z"
    }
   },
   "outputs": [
    {
     "data": {
      "text/plain": [
       "deque(['l', 'o', 'v', 'e'])"
      ]
     },
     "execution_count": 14,
     "metadata": {},
     "output_type": "execute_result"
    }
   ],
   "source": [
    "dq"
   ]
  },
  {
   "cell_type": "markdown",
   "metadata": {},
   "source": [
    "## deque 확장하기 : extend(), extendleft()\n",
    "deque를 확장할 때는 expend()메서드를 사용한다. 기본적으로 오른쪽으로 확장된다.  \n",
    "왼쪽으로 확장하고 싶을 때는 extendleft() 메서드를 사용한다.  \n",
    "왼쪽으로 확장될 때는 입력 순서대로 왼쪽에 붙으므로, 입력하는 문자열의 역순으로 붙게된다."
   ]
  },
  {
   "cell_type": "code",
   "execution_count": 15,
   "metadata": {
    "ExecuteTime": {
     "end_time": "2020-12-12T06:45:38.273880Z",
     "start_time": "2020-12-12T06:45:38.263848Z"
    }
   },
   "outputs": [
    {
     "data": {
      "text/plain": [
       "deque(['l', 'o', 'v', 'e', 'y', 'o', 'u'])"
      ]
     },
     "execution_count": 15,
     "metadata": {},
     "output_type": "execute_result"
    }
   ],
   "source": [
    "dq.extend('you')\n",
    "dq"
   ]
  },
  {
   "cell_type": "code",
   "execution_count": 16,
   "metadata": {
    "ExecuteTime": {
     "end_time": "2020-12-12T06:45:38.486969Z",
     "start_time": "2020-12-12T06:45:38.473939Z"
    }
   },
   "outputs": [
    {
     "data": {
      "text/plain": [
       "deque(['u', 'o', 'y', 'l', 'o', 'v', 'e', 'y', 'o', 'u'])"
      ]
     },
     "execution_count": 16,
     "metadata": {},
     "output_type": "execute_result"
    }
   ],
   "source": [
    "dq.extendleft('you') # y -> o -> u 순서대로 왼쪽에 붙는다.\n",
    "dq"
   ]
  },
  {
   "cell_type": "markdown",
   "metadata": {},
   "source": [
    "## 리스트처럼 사용 : insert(), remove()\n",
    "deque는 리스트처럼 중간 내용을 수정하거나 새 항목을 입력하거나 삭제할 수 있다.  \n",
    "remove()의 경우 동일항목이 있으면 왼쪽부터 삭제된다."
   ]
  },
  {
   "cell_type": "code",
   "execution_count": 17,
   "metadata": {
    "ExecuteTime": {
     "end_time": "2020-12-12T06:46:58.639336Z",
     "start_time": "2020-12-12T06:46:58.622350Z"
    }
   },
   "outputs": [
    {
     "data": {
      "text/plain": [
       "'y'"
      ]
     },
     "execution_count": 17,
     "metadata": {},
     "output_type": "execute_result"
    }
   ],
   "source": [
    "dq[2]"
   ]
  },
  {
   "cell_type": "code",
   "execution_count": 18,
   "metadata": {
    "ExecuteTime": {
     "end_time": "2020-12-12T06:47:05.381153Z",
     "start_time": "2020-12-12T06:47:05.367120Z"
    }
   },
   "outputs": [
    {
     "data": {
      "text/plain": [
       "deque(['u', 'o', 'n', 'l', 'o', 'v', 'e', 'y', 'o', 'u'])"
      ]
     },
     "execution_count": 18,
     "metadata": {},
     "output_type": "execute_result"
    }
   ],
   "source": [
    "dq[2] = 'n'\n",
    "dq"
   ]
  },
  {
   "cell_type": "code",
   "execution_count": 19,
   "metadata": {
    "ExecuteTime": {
     "end_time": "2020-12-12T06:48:22.697394Z",
     "start_time": "2020-12-12T06:48:22.685393Z"
    }
   },
   "outputs": [
    {
     "data": {
      "text/plain": [
       "deque(['u', 'n', 'l', 'o', 'v', 'e', 'y', 'o', 'u'])"
      ]
     },
     "execution_count": 19,
     "metadata": {},
     "output_type": "execute_result"
    }
   ],
   "source": [
    "dq.remove('o')\n",
    "dq #왼쪽의 'o' 부터 삭제된다."
   ]
  },
  {
   "cell_type": "code",
   "execution_count": 20,
   "metadata": {
    "ExecuteTime": {
     "end_time": "2020-12-12T06:48:26.539819Z",
     "start_time": "2020-12-12T06:48:26.531848Z"
    }
   },
   "outputs": [
    {
     "data": {
      "text/plain": [
       "deque(['u', 'n', 'l', 'v', 'e', 'y', 'o', 'u'])"
      ]
     },
     "execution_count": 20,
     "metadata": {},
     "output_type": "execute_result"
    }
   ],
   "source": [
    "dq.remove('o')\n",
    "dq #왼쪽의 'o' 부터 삭제된다."
   ]
  },
  {
   "cell_type": "markdown",
   "metadata": {},
   "source": [
    "## deque의 내용을 좌우로 반전 : reverse()"
   ]
  },
  {
   "cell_type": "code",
   "execution_count": 21,
   "metadata": {
    "ExecuteTime": {
     "end_time": "2020-12-12T06:49:19.541058Z",
     "start_time": "2020-12-12T06:49:19.525033Z"
    }
   },
   "outputs": [
    {
     "data": {
      "text/plain": [
       "deque(['u', 'o', 'y', 'e', 'v', 'l', 'n', 'u'])"
      ]
     },
     "execution_count": 21,
     "metadata": {},
     "output_type": "execute_result"
    }
   ],
   "source": [
    "dq.reverse()\n",
    "dq"
   ]
  },
  {
   "cell_type": "markdown",
   "metadata": {},
   "source": [
    "# 원소 유무를 확인할 때는 dict와 set을 사용하라\n",
    "파이썬은 dictionary 또는 set에 원소가 존재하는지 체크하는 것이 굉장히 빠릅니다. dict와 set은 hash table로 구현되었기 때문입니다.  \n",
    "O(1)만큼 빠를 수 있습니다. 그러므로 존재 유무를 자주 확인해야 될 경우 컨테이너로 dict 또는 set을 사용하십시오."
   ]
  },
  {
   "cell_type": "code",
   "execution_count": 34,
   "metadata": {
    "ExecuteTime": {
     "end_time": "2020-12-12T06:50:44.185441Z",
     "start_time": "2020-12-12T06:50:44.179411Z"
    }
   },
   "outputs": [
    {
     "name": "stdout",
     "output_type": "stream",
     "text": [
      "True\n"
     ]
    }
   ],
   "source": [
    "# list를 사용할 경우 느림\n",
    "mylist = ['a', 'b', 'c']\n",
    "print('c' in mylist) # True"
   ]
  },
  {
   "cell_type": "code",
   "execution_count": 33,
   "metadata": {
    "ExecuteTime": {
     "end_time": "2020-12-12T06:50:42.709187Z",
     "start_time": "2020-12-12T06:50:42.700150Z"
    }
   },
   "outputs": [
    {
     "name": "stdout",
     "output_type": "stream",
     "text": [
      "True\n"
     ]
    }
   ],
   "source": [
    "# set을 사용할 경우 빠름 \n",
    "myset = set(['a', 'b', 'c']) \n",
    "print('c' in myset) # True"
   ]
  },
  {
   "cell_type": "markdown",
   "metadata": {},
   "source": [
    "# 직관에 의존하지말고, 툴을 이용해 코드를 프로파일하라\n",
    "속도 문제는 미묘할 수 있으므로 직관에 의존하면 안됩니다.  \n",
    "\"cprofile\" 모듈을 사용하면 간단하게 파이썬 코드를 프로파일링할 수 있습니다.\n",
    "\n",
    "출처: https://deepwelloper.tistory.com/114?category=813724 [DEVLOG]"
   ]
  },
  {
   "cell_type": "markdown",
   "metadata": {
    "ExecuteTime": {
     "end_time": "2020-12-12T06:52:41.306784Z",
     "start_time": "2020-12-12T06:52:41.296814Z"
    }
   },
   "source": [
    "python -m cProfile myprogram.py"
   ]
  },
  {
   "cell_type": "markdown",
   "metadata": {},
   "source": [
    "# 시간복잡도를 검토하라\n",
    "프로파일링 후에 속도에 대한 기본적인 분석을 해보십시오.  \n",
    "상수시간 O(1)은 가장 이상적이고, O(logN)은 안정적입니다.  \n",
    "O(N!)은 따질 필요도 없습니다.\n",
    "\n",
    "출처: https://deepwelloper.tistory.com/114?category=813724 [DEVLOG]"
   ]
  },
  {
   "cell_type": "markdown",
   "metadata": {},
   "source": [
    "O(1) -> O(logN) -> O(NlogN) -> O(N^2) -> O(N^3) -> O(N^k) -> O(k^N) -> O(N!)"
   ]
  },
  {
   "cell_type": "markdown",
   "metadata": {},
   "source": [
    "# third-party 패키지를 사용하라\n",
    "Numpy : MatLab과 비슷한 오픈소스  \n",
    "SciPy : 빠른 수치 처리 라이브러리  \n",
    "GPULib : 코드의 속도향상을 위해 GPU를 사용합니다  \n",
    "PyPy : 파이썬 코드를 최적화하기 위한 just-in-time 컴파일러  \n",
    "Cython : Python 코드를 C로 변환  \n",
    "ShedSkin : Python 코드를 C++로 변환  \n",
    "\n",
    "출처: https://deepwelloper.tistory.com/114?category=813724 [DEVLOG]"
   ]
  },
  {
   "cell_type": "code",
   "execution_count": null,
   "metadata": {},
   "outputs": [],
   "source": []
  }
 ],
 "metadata": {
  "kernelspec": {
   "display_name": "Python 3",
   "language": "python",
   "name": "python3"
  },
  "language_info": {
   "codemirror_mode": {
    "name": "ipython",
    "version": 3
   },
   "file_extension": ".py",
   "mimetype": "text/x-python",
   "name": "python",
   "nbconvert_exporter": "python",
   "pygments_lexer": "ipython3",
   "version": "3.8.3"
  },
  "toc": {
   "base_numbering": 1,
   "nav_menu": {},
   "number_sections": true,
   "sideBar": true,
   "skip_h1_title": false,
   "title_cell": "Table of Contents",
   "title_sidebar": "Contents",
   "toc_cell": false,
   "toc_position": {},
   "toc_section_display": true,
   "toc_window_display": false
  },
  "varInspector": {
   "cols": {
    "lenName": 16,
    "lenType": 16,
    "lenVar": 40
   },
   "kernels_config": {
    "python": {
     "delete_cmd_postfix": "",
     "delete_cmd_prefix": "del ",
     "library": "var_list.py",
     "varRefreshCmd": "print(var_dic_list())"
    },
    "r": {
     "delete_cmd_postfix": ") ",
     "delete_cmd_prefix": "rm(",
     "library": "var_list.r",
     "varRefreshCmd": "cat(var_dic_list()) "
    }
   },
   "types_to_exclude": [
    "module",
    "function",
    "builtin_function_or_method",
    "instance",
    "_Feature"
   ],
   "window_display": false
  }
 },
 "nbformat": 4,
 "nbformat_minor": 4
}
